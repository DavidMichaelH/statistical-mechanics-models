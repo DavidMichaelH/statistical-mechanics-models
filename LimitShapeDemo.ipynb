{
  "nbformat": 4,
  "nbformat_minor": 0,
  "metadata": {
    "colab": {
      "private_outputs": true,
      "provenance": [],
      "authorship_tag": "ABX9TyMZMKdpMN9n+jOgCgALWgRu",
      "include_colab_link": true
    },
    "kernelspec": {
      "name": "python3",
      "display_name": "Python 3"
    },
    "language_info": {
      "name": "python"
    }
  },
  "cells": [
    {
      "cell_type": "markdown",
      "metadata": {
        "id": "view-in-github",
        "colab_type": "text"
      },
      "source": [
        "<a href=\"https://colab.research.google.com/github/DavidMichaelH/StatisticalMechanicsModels/blob/master/LimitShapeDemo.ipynb\" target=\"_parent\"><img src=\"https://colab.research.google.com/assets/colab-badge.svg\" alt=\"Open In Colab\"/></a>"
      ]
    },
    {
      "cell_type": "markdown",
      "source": [
        "# First Passage Percolation Demo"
      ],
      "metadata": {
        "id": "HHbQ0wayI7yy"
      }
    },
    {
      "cell_type": "markdown",
      "source": [
        "You can either run each cell block one by one if you care to inspect what each step is doing but if you just want to get to the good stuff then you can simply press CTRL+F9 to run the entrie notebook."
      ],
      "metadata": {
        "id": "Ha1Tq5fvRYas"
      }
    },
    {
      "cell_type": "markdown",
      "source": [
        "Run the following once to initialize the project. (Click the play button)"
      ],
      "metadata": {
        "id": "qEZceIevHf5Y"
      }
    },
    {
      "cell_type": "code",
      "execution_count": null,
      "metadata": {
        "id": "X0dSiQsjHeRr"
      },
      "outputs": [],
      "source": [
        "!git clone https://github.com/DavidMichaelH/StatisticalMechanicsModels\n",
        "!python StatisticalMechanicsModels/setup.py install\n",
        "%cd StatisticalMechanicsModels/statistical_mechanics_models/"
      ]
    },
    {
      "cell_type": "markdown",
      "source": [
        "In this demo we see how to simulate FPP the hexagonal lattice in order to visualize an approximate limit shape.\n",
        "\n",
        "The first thing we will need to do is import the relavent modules."
      ],
      "metadata": {
        "id": "rixPvw9sJY6k"
      }
    },
    {
      "cell_type": "code",
      "source": [
        "from graphs.triangular_lattice import TriangularLattice\n",
        "from first_passage_percolation.fpp import FPP\n",
        "from plot.plot_hexagonal_grid import HexPlot\n",
        "import random\n",
        "import math"
      ],
      "metadata": {
        "id": "EW8MVaDKIyqo"
      },
      "execution_count": null,
      "outputs": []
    },
    {
      "cell_type": "markdown",
      "source": [
        "Define a triangular lattice object. *Change the height and width to your liking.*"
      ],
      "metadata": {
        "id": "242JN_LfFB_q"
      }
    },
    {
      "cell_type": "code",
      "source": [
        "#Define the lattice. This object records the topological structure of the graph.\n",
        "height = 150\n",
        "width = 150\n",
        "triangular_lattice = TriangularLattice(height, width)\n"
      ],
      "metadata": {
        "id": "gQMGpi-I28Zs"
      },
      "execution_count": null,
      "outputs": []
    },
    {
      "cell_type": "markdown",
      "source": [
        "We will create a function which returns an exponential random variable. "
      ],
      "metadata": {
        "id": "bVm2o_UZFEb4"
      }
    },
    {
      "cell_type": "code",
      "source": [
        "def Exp(args):\n",
        "    return random.expovariate(5)"
      ],
      "metadata": {
        "id": "YDya2_z8Azqd"
      },
      "execution_count": null,
      "outputs": []
    },
    {
      "cell_type": "markdown",
      "source": [
        "We can give this function to our lattice object to assign the vertex weights with i.i.d. samples drawn from the function."
      ],
      "metadata": {
        "id": "LYe7k13YFN7m"
      }
    },
    {
      "cell_type": "code",
      "source": [
        "triangular_lattice.set_edge_weights(Exp)"
      ],
      "metadata": {
        "id": "j79LREAiDWAB"
      },
      "execution_count": null,
      "outputs": []
    },
    {
      "cell_type": "markdown",
      "source": [
        "We pick a point in the middle of the lattice which we call the origin. It is relative to this from which we will compute a ball."
      ],
      "metadata": {
        "id": "E35VDdb9Lbpd"
      }
    },
    {
      "cell_type": "code",
      "source": [
        "origin = (width//2,height//2)"
      ],
      "metadata": {
        "id": "TXSD-qmQLYB-"
      },
      "execution_count": null,
      "outputs": []
    },
    {
      "cell_type": "markdown",
      "source": [
        "We create an FPP object by passing it our lattice and the origin."
      ],
      "metadata": {
        "id": "BFczAU55Ltv6"
      }
    },
    {
      "cell_type": "code",
      "source": [
        "fpp = FPP(triangular_lattice,start_node = origin)"
      ],
      "metadata": {
        "id": "CA2KPKlgLol_"
      },
      "execution_count": null,
      "outputs": []
    },
    {
      "cell_type": "markdown",
      "source": [
        "We can compute the an multidimensional array of passage time relative to the origin. "
      ],
      "metadata": {
        "id": "_4gpQCA6L6jP"
      }
    },
    {
      "cell_type": "code",
      "source": [
        "shortest_path_field = fpp.ComputeDistanceField()"
      ],
      "metadata": {
        "id": "ynQgTfjhL3PW"
      },
      "execution_count": null,
      "outputs": []
    },
    {
      "cell_type": "code",
      "source": [
        "passageTimeToBoundary , target_node = fpp.PassageTimeToBoundary()"
      ],
      "metadata": {
        "id": "vJi-jm3nMZm8"
      },
      "execution_count": null,
      "outputs": []
    },
    {
      "cell_type": "code",
      "source": [
        "geodesic = fpp.ComputeGeodesic(target_node)"
      ],
      "metadata": {
        "id": "KswC5uPUMSpQ"
      },
      "execution_count": null,
      "outputs": []
    },
    {
      "cell_type": "code",
      "source": [
        "hex_plot = HexPlot()\n",
        "hex_plot.PlotHexagonalGrid(shortest_path_field,continuousColor=\"seismic\") \n",
        "hex_plot.PlotPath(geodesic,pathColor=\"green\",linewidth = 2.0,markersize=0.8)\n",
        "hex_plot.plt.rcParams['figure.figsize'] = (20, 20)\n",
        "hex_plot.Show()   \n"
      ],
      "metadata": {
        "id": "eT7iJZr0Ddqd"
      },
      "execution_count": null,
      "outputs": []
    },
    {
      "cell_type": "markdown",
      "source": [
        "In order to visualize the limit shape we will artificially set the verticies with passage time larger than the average to be zero so create a sharp boundary in the image. We then plot the result."
      ],
      "metadata": {
        "id": "0W40SRi-M9XU"
      }
    },
    {
      "cell_type": "code",
      "source": [
        "import numpy as np\n",
        "shortest_path_field_truncated = np.array(shortest_path_field)\n",
        "shortest_path_field_truncated[shortest_path_field_truncated > np.mean(shortest_path_field_truncated)] = 0"
      ],
      "metadata": {
        "id": "3rIMuLgoMtlB"
      },
      "execution_count": null,
      "outputs": []
    },
    {
      "cell_type": "code",
      "source": [
        "hex_plot = HexPlot()\n",
        "hex_plot.PlotHexagonalGrid(shortest_path_field_truncated,continuousColor=\"seismic\") \n",
        "hex_plot.plt.rcParams['figure.figsize'] = (30, 30)\n",
        "hex_plot.Show()   \n"
      ],
      "metadata": {
        "id": "XXzkwNjuNkBH"
      },
      "execution_count": null,
      "outputs": []
    }
  ]
}